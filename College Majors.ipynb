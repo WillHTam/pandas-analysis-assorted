{
 "cells": [
  {
   "cell_type": "code",
   "execution_count": 2,
   "metadata": {
    "collapsed": true
   },
   "outputs": [],
   "source": [
    "import pandas as pd"
   ]
  },
  {
   "cell_type": "code",
   "execution_count": 3,
   "metadata": {
    "collapsed": true
   },
   "outputs": [],
   "source": [
    "all_ages = pd.read_csv('./all-ages.csv')\n",
    "recent_grads = pd.read_csv('./recent-grads.csv')"
   ]
  },
  {
   "cell_type": "code",
   "execution_count": 4,
   "metadata": {},
   "outputs": [
    {
     "data": {
      "text/html": [
       "<div>\n",
       "<style>\n",
       "    .dataframe thead tr:only-child th {\n",
       "        text-align: right;\n",
       "    }\n",
       "\n",
       "    .dataframe thead th {\n",
       "        text-align: left;\n",
       "    }\n",
       "\n",
       "    .dataframe tbody tr th {\n",
       "        vertical-align: top;\n",
       "    }\n",
       "</style>\n",
       "<table border=\"1\" class=\"dataframe\">\n",
       "  <thead>\n",
       "    <tr style=\"text-align: right;\">\n",
       "      <th></th>\n",
       "      <th>Major_code</th>\n",
       "      <th>Major</th>\n",
       "      <th>Major_category</th>\n",
       "      <th>Total</th>\n",
       "      <th>Employed</th>\n",
       "      <th>Employed_full_time_year_round</th>\n",
       "      <th>Unemployed</th>\n",
       "      <th>Unemployment_rate</th>\n",
       "      <th>Median</th>\n",
       "      <th>P25th</th>\n",
       "      <th>P75th</th>\n",
       "    </tr>\n",
       "  </thead>\n",
       "  <tbody>\n",
       "    <tr>\n",
       "      <th>0</th>\n",
       "      <td>1100</td>\n",
       "      <td>GENERAL AGRICULTURE</td>\n",
       "      <td>Agriculture &amp; Natural Resources</td>\n",
       "      <td>128148</td>\n",
       "      <td>90245</td>\n",
       "      <td>74078</td>\n",
       "      <td>2423</td>\n",
       "      <td>0.026147</td>\n",
       "      <td>50000</td>\n",
       "      <td>34000</td>\n",
       "      <td>80000.0</td>\n",
       "    </tr>\n",
       "    <tr>\n",
       "      <th>1</th>\n",
       "      <td>1101</td>\n",
       "      <td>AGRICULTURE PRODUCTION AND MANAGEMENT</td>\n",
       "      <td>Agriculture &amp; Natural Resources</td>\n",
       "      <td>95326</td>\n",
       "      <td>76865</td>\n",
       "      <td>64240</td>\n",
       "      <td>2266</td>\n",
       "      <td>0.028636</td>\n",
       "      <td>54000</td>\n",
       "      <td>36000</td>\n",
       "      <td>80000.0</td>\n",
       "    </tr>\n",
       "    <tr>\n",
       "      <th>2</th>\n",
       "      <td>1102</td>\n",
       "      <td>AGRICULTURAL ECONOMICS</td>\n",
       "      <td>Agriculture &amp; Natural Resources</td>\n",
       "      <td>33955</td>\n",
       "      <td>26321</td>\n",
       "      <td>22810</td>\n",
       "      <td>821</td>\n",
       "      <td>0.030248</td>\n",
       "      <td>63000</td>\n",
       "      <td>40000</td>\n",
       "      <td>98000.0</td>\n",
       "    </tr>\n",
       "  </tbody>\n",
       "</table>\n",
       "</div>"
      ],
      "text/plain": [
       "   Major_code                                  Major  \\\n",
       "0        1100                    GENERAL AGRICULTURE   \n",
       "1        1101  AGRICULTURE PRODUCTION AND MANAGEMENT   \n",
       "2        1102                 AGRICULTURAL ECONOMICS   \n",
       "\n",
       "                    Major_category   Total  Employed  \\\n",
       "0  Agriculture & Natural Resources  128148     90245   \n",
       "1  Agriculture & Natural Resources   95326     76865   \n",
       "2  Agriculture & Natural Resources   33955     26321   \n",
       "\n",
       "   Employed_full_time_year_round  Unemployed  Unemployment_rate  Median  \\\n",
       "0                          74078        2423           0.026147   50000   \n",
       "1                          64240        2266           0.028636   54000   \n",
       "2                          22810         821           0.030248   63000   \n",
       "\n",
       "   P25th    P75th  \n",
       "0  34000  80000.0  \n",
       "1  36000  80000.0  \n",
       "2  40000  98000.0  "
      ]
     },
     "execution_count": 4,
     "metadata": {},
     "output_type": "execute_result"
    }
   ],
   "source": [
    "all_ages.loc[:2]"
   ]
  },
  {
   "cell_type": "markdown",
   "metadata": {},
   "source": [
    "# Dictionary Of K: Major Category V: Sum of Totals of that MC"
   ]
  },
  {
   "cell_type": "markdown",
   "metadata": {},
   "source": [
    "## Method 1"
   ]
  },
  {
   "cell_type": "code",
   "execution_count": 5,
   "metadata": {
    "collapsed": true
   },
   "outputs": [],
   "source": [
    "aa_cat_counts = dict()\n",
    "rg_cat_counts = dict()\n",
    "maj_cat_list = all_ages['Major_category'].unique()\n",
    "rg_cat_list = recent_grads['Major_category'].unique()"
   ]
  },
  {
   "cell_type": "code",
   "execution_count": 6,
   "metadata": {
    "collapsed": true
   },
   "outputs": [],
   "source": [
    "for i in maj_cat_list:\n",
    "    bools = all_ages['Major_category'] == i\n",
    "    listy = all_ages['Total'][bools]\n",
    "    aa_cat_tot = listy.sum()\n",
    "    aa_cat_counts[i] = aa_cat_tot\n",
    "    \n",
    "for i in rg_cat_list:\n",
    "    bools2 = recent_grads['Major_category'] == i\n",
    "    listy2 = recent_grads['Total'][bools2]\n",
    "    rg_cat_tot = listy2.sum()\n",
    "    rg_cat_counts[i] = rg_cat_tot"
   ]
  },
  {
   "cell_type": "markdown",
   "metadata": {},
   "source": [
    "## Method 2"
   ]
  },
  {
   "cell_type": "code",
   "execution_count": 7,
   "metadata": {
    "collapsed": true
   },
   "outputs": [],
   "source": [
    "def calculate_major_cat_totals(df):\n",
    "    cats = df['Major_category'].unique()\n",
    "    counts_dictionary = dict()\n",
    "\n",
    "    for c in cats:\n",
    "        major_df = df[df[\"Major_category\"] == c]\n",
    "        total = major_df[\"Total\"].sum()\n",
    "        counts_dictionary[c] = total\n",
    "    return counts_dictionary"
   ]
  },
  {
   "cell_type": "code",
   "execution_count": 8,
   "metadata": {
    "collapsed": true
   },
   "outputs": [],
   "source": [
    "rg_cat_counts = calculate_major_cat_totals(recent_grads)\n",
    "aa_cat_counts = calculate_major_cat_totals(all_ages)"
   ]
  },
  {
   "cell_type": "markdown",
   "metadata": {},
   "source": [
    "## Method 3"
   ]
  },
  {
   "cell_type": "code",
   "execution_count": 9,
   "metadata": {
    "collapsed": true
   },
   "outputs": [],
   "source": [
    "aa_cat_counts = all_ages.groupby('Major_category').sum()[\"Total\"].to_dict()"
   ]
  },
  {
   "cell_type": "code",
   "execution_count": 10,
   "metadata": {
    "scrolled": true
   },
   "outputs": [
    {
     "data": {
      "text/plain": [
       "{'Agriculture & Natural Resources': 632437,\n",
       " 'Arts': 1805865,\n",
       " 'Biology & Life Science': 1338186,\n",
       " 'Business': 9858741,\n",
       " 'Communications & Journalism': 1803822,\n",
       " 'Computers & Mathematics': 1781378,\n",
       " 'Education': 4700118,\n",
       " 'Engineering': 3576013,\n",
       " 'Health': 2950859,\n",
       " 'Humanities & Liberal Arts': 3738335,\n",
       " 'Industrial Arts & Consumer Services': 1033798,\n",
       " 'Interdisciplinary': 45199,\n",
       " 'Law & Public Policy': 902926,\n",
       " 'Physical Sciences': 1025318,\n",
       " 'Psychology & Social Work': 1987278,\n",
       " 'Social Science': 2654125}"
      ]
     },
     "execution_count": 10,
     "metadata": {},
     "output_type": "execute_result"
    }
   ],
   "source": [
    "aa_cat_counts"
   ]
  },
  {
   "cell_type": "code",
   "execution_count": 19,
   "metadata": {},
   "outputs": [],
   "source": [
    "rg_cat_counts = recent_grads.groupby('Major_category').sum()['Total'].to_dict()"
   ]
  },
  {
   "cell_type": "code",
   "execution_count": 20,
   "metadata": {},
   "outputs": [
    {
     "data": {
      "text/plain": [
       "{'Agriculture & Natural Resources': 75620.0,\n",
       " 'Arts': 357130.0,\n",
       " 'Biology & Life Science': 453862.0,\n",
       " 'Business': 1302376.0,\n",
       " 'Communications & Journalism': 392601.0,\n",
       " 'Computers & Mathematics': 299008.0,\n",
       " 'Education': 559129.0,\n",
       " 'Engineering': 537583.0,\n",
       " 'Health': 463230.0,\n",
       " 'Humanities & Liberal Arts': 713468.0,\n",
       " 'Industrial Arts & Consumer Services': 229792.0,\n",
       " 'Interdisciplinary': 12296.0,\n",
       " 'Law & Public Policy': 179107.0,\n",
       " 'Physical Sciences': 185479.0,\n",
       " 'Psychology & Social Work': 481007.0,\n",
       " 'Social Science': 529966.0}"
      ]
     },
     "execution_count": 20,
     "metadata": {},
     "output_type": "execute_result"
    }
   ],
   "source": [
    "rg_cat_counts"
   ]
  },
  {
   "cell_type": "markdown",
   "metadata": {},
   "source": [
    "    ---"
   ]
  },
  {
   "cell_type": "markdown",
   "metadata": {},
   "source": [
    "Proportion of Grads working low wage jobs"
   ]
  },
  {
   "cell_type": "code",
   "execution_count": 14,
   "metadata": {},
   "outputs": [
    {
     "data": {
      "text/plain": [
       "0.09858891195563152"
      ]
     },
     "execution_count": 14,
     "metadata": {},
     "output_type": "execute_result"
    }
   ],
   "source": [
    "low_wage_proportion = recent_grads['Low_wage_jobs'].sum()/recent_grads['Total'].sum()\n",
    "low_wage_proportion"
   ]
  },
  {
   "cell_type": "markdown",
   "metadata": {},
   "source": [
    "rg_lower_count counts how many majors in rg vs aa have a lower unemployment rate"
   ]
  },
  {
   "cell_type": "code",
   "execution_count": 25,
   "metadata": {},
   "outputs": [],
   "source": [
    "majors = recent_grads['Major'].unique()\n",
    "rg_lower_count = 0\n",
    "for i in majors:\n",
    "    recent_bool = recent_grads['Major'] == i\n",
    "    all_bool = all_ages['Major'] == i\n",
    "    recent_maj = recent_grads['Unemployment_rate'][recent_bool].sum()\n",
    "    all_maj = all_ages['Unemployment_rate'][all_bool].sum()\n",
    "    if recent_maj < all_maj:\n",
    "        rg_lower_count += 1 "
   ]
  },
  {
   "cell_type": "code",
   "execution_count": 37,
   "metadata": {},
   "outputs": [
    {
     "data": {
      "text/html": [
       "<div>\n",
       "<style>\n",
       "    .dataframe thead tr:only-child th {\n",
       "        text-align: right;\n",
       "    }\n",
       "\n",
       "    .dataframe thead th {\n",
       "        text-align: left;\n",
       "    }\n",
       "\n",
       "    .dataframe tbody tr th {\n",
       "        vertical-align: top;\n",
       "    }\n",
       "</style>\n",
       "<table border=\"1\" class=\"dataframe\">\n",
       "  <thead>\n",
       "    <tr style=\"text-align: right;\">\n",
       "      <th></th>\n",
       "      <th>Rank</th>\n",
       "      <th>Major_code</th>\n",
       "      <th>Major</th>\n",
       "      <th>Total</th>\n",
       "      <th>Men</th>\n",
       "      <th>Women</th>\n",
       "      <th>Major_category</th>\n",
       "      <th>ShareWomen</th>\n",
       "      <th>Sample_size</th>\n",
       "      <th>Employed</th>\n",
       "      <th>...</th>\n",
       "      <th>Part_time</th>\n",
       "      <th>Full_time_year_round</th>\n",
       "      <th>Unemployed</th>\n",
       "      <th>Unemployment_rate</th>\n",
       "      <th>Median</th>\n",
       "      <th>P25th</th>\n",
       "      <th>P75th</th>\n",
       "      <th>College_jobs</th>\n",
       "      <th>Non_college_jobs</th>\n",
       "      <th>Low_wage_jobs</th>\n",
       "    </tr>\n",
       "  </thead>\n",
       "  <tbody>\n",
       "    <tr>\n",
       "      <th>0</th>\n",
       "      <td>1</td>\n",
       "      <td>2419</td>\n",
       "      <td>PETROLEUM ENGINEERING</td>\n",
       "      <td>2339.0</td>\n",
       "      <td>2057.0</td>\n",
       "      <td>282.0</td>\n",
       "      <td>Engineering</td>\n",
       "      <td>0.120564</td>\n",
       "      <td>36</td>\n",
       "      <td>1976</td>\n",
       "      <td>...</td>\n",
       "      <td>270</td>\n",
       "      <td>1207</td>\n",
       "      <td>37</td>\n",
       "      <td>0.018381</td>\n",
       "      <td>110000</td>\n",
       "      <td>95000</td>\n",
       "      <td>125000</td>\n",
       "      <td>1534</td>\n",
       "      <td>364</td>\n",
       "      <td>193</td>\n",
       "    </tr>\n",
       "  </tbody>\n",
       "</table>\n",
       "<p>1 rows × 21 columns</p>\n",
       "</div>"
      ],
      "text/plain": [
       "   Rank  Major_code                  Major   Total     Men  Women  \\\n",
       "0     1        2419  PETROLEUM ENGINEERING  2339.0  2057.0  282.0   \n",
       "\n",
       "  Major_category  ShareWomen  Sample_size  Employed      ...        Part_time  \\\n",
       "0    Engineering    0.120564           36      1976      ...              270   \n",
       "\n",
       "   Full_time_year_round  Unemployed  Unemployment_rate  Median  P25th   P75th  \\\n",
       "0                  1207          37           0.018381  110000  95000  125000   \n",
       "\n",
       "   College_jobs  Non_college_jobs  Low_wage_jobs  \n",
       "0          1534               364            193  \n",
       "\n",
       "[1 rows x 21 columns]"
      ]
     },
     "execution_count": 37,
     "metadata": {},
     "output_type": "execute_result"
    }
   ],
   "source": [
    "recent_row = recent_grads[recent_grads['Major'] == 'PETROLEUM ENGINEERING']\n",
    "rg_rate = recent_row.iloc[0]['Unemployment_rate']\n",
    "# recent_row.iloc converts the DF to a Series so that the float of the Unemployment Rate can be extracted"
   ]
  },
  {
   "cell_type": "code",
   "execution_count": 28,
   "metadata": {},
   "outputs": [
    {
     "name": "stdout",
     "output_type": "stream",
     "text": [
      "44\n"
     ]
    }
   ],
   "source": [
    "# method 2\n",
    "majors = recent_grads['Major'].unique()\n",
    "rg_lower_count = 0\n",
    "for m in majors:\n",
    "    recent_grads_row = recent_grads[recent_grads['Major'] == m]\n",
    "    all_ages_row = all_ages[all_ages['Major'] == m]\n",
    "    \n",
    "    rg_unemp_rate = recent_grads_row.iloc[0]['Unemployment_rate']\n",
    "    aa_unemp_rate = all_ages_row.iloc[0]['Unemployment_rate']\n",
    "    if rg_unemp_rate < aa_unemp_rate:\n",
    "        rg_lower_count += 1\n",
    "print(rg_lower_count)"
   ]
  },
  {
   "cell_type": "markdown",
   "metadata": {},
   "source": [
    "It appears that less recent graduates who studied 44 of the 173 majors ended up having lower unemployment rates than the general population."
   ]
  },
  {
   "cell_type": "code",
   "execution_count": null,
   "metadata": {
    "collapsed": true
   },
   "outputs": [],
   "source": []
  }
 ],
 "metadata": {
  "kernelspec": {
   "display_name": "Python 3",
   "language": "python",
   "name": "python3"
  },
  "language_info": {
   "codemirror_mode": {
    "name": "ipython",
    "version": 3
   },
   "file_extension": ".py",
   "mimetype": "text/x-python",
   "name": "python",
   "nbconvert_exporter": "python",
   "pygments_lexer": "ipython3",
   "version": "3.6.2"
  }
 },
 "nbformat": 4,
 "nbformat_minor": 2
}
